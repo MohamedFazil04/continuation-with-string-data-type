{
 "cells": [
  {
   "cell_type": "code",
   "execution_count": 7,
   "id": "9617fb51",
   "metadata": {},
   "outputs": [],
   "source": [
    "firs_tname = 'mohamed'"
   ]
  },
  {
   "cell_type": "code",
   "execution_count": 8,
   "id": "44d7bc15",
   "metadata": {},
   "outputs": [],
   "source": [
    "last_name = 'fazil'"
   ]
  },
  {
   "cell_type": "code",
   "execution_count": null,
   "id": "ead46376",
   "metadata": {},
   "outputs": [],
   "source": [
    "# I need full name "
   ]
  },
  {
   "cell_type": "code",
   "execution_count": 1,
   "id": "8af28463",
   "metadata": {},
   "outputs": [],
   "source": [
    "full_name = 'mohamedfazil'"
   ]
  },
  {
   "cell_type": "code",
   "execution_count": 2,
   "id": "9973c4ea",
   "metadata": {},
   "outputs": [
    {
     "name": "stdout",
     "output_type": "stream",
     "text": [
      "mohamedfazil\n"
     ]
    }
   ],
   "source": [
    "print(full_name)"
   ]
  },
  {
   "cell_type": "code",
   "execution_count": null,
   "id": "29a0bc94",
   "metadata": {},
   "outputs": [],
   "source": [
    "# First letter of the name in upper class"
   ]
  },
  {
   "cell_type": "code",
   "execution_count": 3,
   "id": "9ac65367",
   "metadata": {},
   "outputs": [
    {
     "name": "stdout",
     "output_type": "stream",
     "text": [
      "Mohamedfazil\n"
     ]
    }
   ],
   "source": [
    "print(full_name.title())"
   ]
  },
  {
   "cell_type": "code",
   "execution_count": 4,
   "id": "394eddd2",
   "metadata": {},
   "outputs": [
    {
     "name": "stdout",
     "output_type": "stream",
     "text": [
      "MOHAMEDFAZIL\n"
     ]
    }
   ],
   "source": [
    "print(full_name.upper()) # Need full name in upper class "
   ]
  },
  {
   "cell_type": "code",
   "execution_count": 5,
   "id": "5112c6b4",
   "metadata": {},
   "outputs": [
    {
     "name": "stdout",
     "output_type": "stream",
     "text": [
      "mohamedfazil\n"
     ]
    }
   ],
   "source": [
    "print(full_name.lower()) # Need full name in lower class"
   ]
  },
  {
   "cell_type": "code",
   "execution_count": null,
   "id": "3f6cf986",
   "metadata": {},
   "outputs": [],
   "source": [
    "# Introduction to f string"
   ]
  },
  {
   "cell_type": "code",
   "execution_count": 9,
   "id": "fdfb2e32",
   "metadata": {},
   "outputs": [],
   "source": [
    "full_name = f\"{firs_tname}{last_name}\""
   ]
  },
  {
   "cell_type": "code",
   "execution_count": 10,
   "id": "4e5b28cb",
   "metadata": {},
   "outputs": [
    {
     "name": "stdout",
     "output_type": "stream",
     "text": [
      "mohamedfazil\n"
     ]
    }
   ],
   "source": [
    "print(full_name)"
   ]
  },
  {
   "cell_type": "code",
   "execution_count": 11,
   "id": "76b74397",
   "metadata": {},
   "outputs": [],
   "source": [
    "message = f\" good work {full_name}\""
   ]
  },
  {
   "cell_type": "code",
   "execution_count": 12,
   "id": "5391b796",
   "metadata": {},
   "outputs": [
    {
     "name": "stdout",
     "output_type": "stream",
     "text": [
      " good work mohamedfazil\n"
     ]
    }
   ],
   "source": [
    "print(message)"
   ]
  },
  {
   "cell_type": "code",
   "execution_count": 18,
   "id": "16c3ea74",
   "metadata": {},
   "outputs": [],
   "source": [
    "message = f\" good work {full_name.title()}\""
   ]
  },
  {
   "cell_type": "code",
   "execution_count": 17,
   "id": "393c3d2f",
   "metadata": {},
   "outputs": [
    {
     "name": "stdout",
     "output_type": "stream",
     "text": [
      " good work Mohamedfazil\n"
     ]
    }
   ],
   "source": [
    "print(message)"
   ]
  },
  {
   "cell_type": "code",
   "execution_count": null,
   "id": "cd63a791",
   "metadata": {},
   "outputs": [],
   "source": [
    "# Adding whitespace to string"
   ]
  },
  {
   "cell_type": "code",
   "execution_count": 21,
   "id": "a7af64ff",
   "metadata": {},
   "outputs": [
    {
     "name": "stdout",
     "output_type": "stream",
     "text": [
      "favourite language : \n",
      "java\n",
      "c\n",
      "c++\n",
      "swift\n",
      "python\n"
     ]
    }
   ],
   "source": [
    "print(\"favourite language : \\njava\\nc\\nc++\\nswift\\npython\") #\\n = new line delimiter"
   ]
  },
  {
   "cell_type": "code",
   "execution_count": 20,
   "id": "9e06dd91",
   "metadata": {},
   "outputs": [
    {
     "name": "stdout",
     "output_type": "stream",
     "text": [
      "favourite language : \n",
      "\tjava\n",
      "\tc\n",
      "\tc++\n",
      "\tswift\n",
      "\tpython\n"
     ]
    }
   ],
   "source": [
    "print(\"favourite language : \\n\\tjava\\n\\tc\\n\\tc++\\n\\tswift\\n\\tpython\") # \\t = tab delimiter"
   ]
  },
  {
   "cell_type": "code",
   "execution_count": null,
   "id": "1c5efe7c",
   "metadata": {},
   "outputs": [],
   "source": [
    "#Removing white space from string:"
   ]
  },
  {
   "cell_type": "code",
   "execution_count": 22,
   "id": "7a128ae0",
   "metadata": {},
   "outputs": [],
   "source": [
    "name1='fazil'"
   ]
  },
  {
   "cell_type": "code",
   "execution_count": 23,
   "id": "c45bc979",
   "metadata": {},
   "outputs": [
    {
     "name": "stdout",
     "output_type": "stream",
     "text": [
      "fazil\n"
     ]
    }
   ],
   "source": [
    "print(name1)"
   ]
  },
  {
   "cell_type": "code",
   "execution_count": 24,
   "id": "f4962e23",
   "metadata": {},
   "outputs": [],
   "source": [
    "name2='          mohamedfazil'"
   ]
  },
  {
   "cell_type": "code",
   "execution_count": 25,
   "id": "4040c4e4",
   "metadata": {},
   "outputs": [
    {
     "name": "stdout",
     "output_type": "stream",
     "text": [
      "          mohamedfazil\n"
     ]
    }
   ],
   "source": [
    "print(name2)"
   ]
  },
  {
   "cell_type": "code",
   "execution_count": 28,
   "id": "920a2f97",
   "metadata": {},
   "outputs": [],
   "source": [
    "name3= 'mohamedfazil                '           "
   ]
  },
  {
   "cell_type": "code",
   "execution_count": 26,
   "id": "38752c1b",
   "metadata": {},
   "outputs": [
    {
     "data": {
      "text/plain": [
       "'mohamedfazil'"
      ]
     },
     "execution_count": 26,
     "metadata": {},
     "output_type": "execute_result"
    }
   ],
   "source": [
    "name2.lstrip()"
   ]
  },
  {
   "cell_type": "code",
   "execution_count": 29,
   "id": "64c22c82",
   "metadata": {},
   "outputs": [
    {
     "data": {
      "text/plain": [
       "'mohamedfazil'"
      ]
     },
     "execution_count": 29,
     "metadata": {},
     "output_type": "execute_result"
    }
   ],
   "source": [
    "name3.rstrip()"
   ]
  },
  {
   "cell_type": "code",
   "execution_count": null,
   "id": "145b1d39",
   "metadata": {},
   "outputs": [],
   "source": []
  }
 ],
 "metadata": {
  "kernelspec": {
   "display_name": "Python 3 (ipykernel)",
   "language": "python",
   "name": "python3"
  },
  "language_info": {
   "codemirror_mode": {
    "name": "ipython",
    "version": 3
   },
   "file_extension": ".py",
   "mimetype": "text/x-python",
   "name": "python",
   "nbconvert_exporter": "python",
   "pygments_lexer": "ipython3",
   "version": "3.9.12"
  }
 },
 "nbformat": 4,
 "nbformat_minor": 5
}
